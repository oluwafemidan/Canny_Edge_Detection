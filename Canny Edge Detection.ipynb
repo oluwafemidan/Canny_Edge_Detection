{
 "cells": [
  {
   "cell_type": "code",
   "execution_count": 1,
   "id": "ef80f303",
   "metadata": {},
   "outputs": [],
   "source": [
    "#Importation of require libraries\n",
    "import cv2\n",
    "import numpy as np"
   ]
  },
  {
   "cell_type": "code",
   "execution_count": 2,
   "id": "3d037928",
   "metadata": {},
   "outputs": [],
   "source": [
    "#Canny Edge Detection\n",
    "# Image path\n",
    "img_path = r\"C:\\Users\\HP 2022\\OneDrive\\Documents\\10alytics\\10alytics\\Computer vision\\Golden pharaoh stock illustration_ Illustration of history - 9171023.jpeg\"\n",
    "\n",
    "# Load the image\n",
    "img = cv2.imread(img_path, 0)\n",
    "\n",
    "# Check if the image is loaded successfully\n",
    "if img is not None and img.size > 0:\n",
    "    # Resize the image (adjust the new dimensions as needed)\n",
    "    new_size = (800, 800)\n",
    "    resized_img = cv2.resize(img, new_size)\n",
    "    \n",
    "    # Apply Canny edge detection\n",
    "    canny_img = cv2.Canny(resized_img, 350, 500)\n",
    "    \n",
    "    # Save the Canny image\n",
    "    cv2.imwrite(\"canny_resized.jpg\", canny_img)\n",
    "    \n",
    "    # Display the Canny image\n",
    "    cv2.imshow(\"Canny\", canny_img)\n",
    "    cv2.waitKey(0)\n",
    "    cv2.destroyAllWindows()\n",
    "else:\n",
    "    print(\"Error: Failed to load or empty image.\")\n",
    "\n"
   ]
  },
  {
   "cell_type": "code",
   "execution_count": null,
   "id": "568643b9",
   "metadata": {},
   "outputs": [],
   "source": []
  }
 ],
 "metadata": {
  "kernelspec": {
   "display_name": "Python [conda env:matplotlib]",
   "language": "python",
   "name": "conda-env-matplotlib-py"
  },
  "language_info": {
   "codemirror_mode": {
    "name": "ipython",
    "version": 3
   },
   "file_extension": ".py",
   "mimetype": "text/x-python",
   "name": "python",
   "nbconvert_exporter": "python",
   "pygments_lexer": "ipython3",
   "version": "3.10.9"
  }
 },
 "nbformat": 4,
 "nbformat_minor": 5
}
